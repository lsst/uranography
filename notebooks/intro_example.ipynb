{
 "cells": [
  {
   "cell_type": "markdown",
   "id": "b3e21255-81b0-471c-a2b5-fc8976ec2ad1",
   "metadata": {},
   "source": [
    "# Generation of figure for inclusion in the introduction page in the documentation"
   ]
  },
  {
   "cell_type": "markdown",
   "id": "3d8ffba8-d6e1-4c74-8eb6-04ebaab7bb41",
   "metadata": {},
   "source": [
    "<span style='color:red'>*This is not a tutorial notebook.*</span> \n",
    "\n",
    "It is a tool for generating the figures included in `docs/source/introduction.rst`.\n",
    "\n",
    "If you you are looking for an introductory tutorial, see `uranography.ipynb`."
   ]
  },
  {
   "cell_type": "code",
   "execution_count": null,
   "id": "e4ba13f7-bfd7-407d-839e-373a572d9772",
   "metadata": {
    "tags": []
   },
   "outputs": [],
   "source": [
    "import warnings\n",
    "import numpy as np\n",
    "import healpy as hp\n",
    "import bokeh\n",
    "import colorcet as cc\n",
    "import pandas as pd\n",
    "import panel as pn\n",
    "from astropy.time import Time\n",
    "import sqlite3\n",
    "import urllib.request\n",
    "import astropy.coordinates\n",
    "import bs4\n",
    "\n",
    "import healsparse as hsp\n",
    "\n",
    "from uranography.api import (\n",
    "    Planisphere,\n",
    "    ArmillarySphere,\n",
    "    MollweideMap,\n",
    "    HorizonMap,\n",
    "    split_healpix_by_resolution,\n",
    "    load_bright_stars,\n",
    "    CameraFootprintPerimeter,\n",
    ")"
   ]
  },
  {
   "cell_type": "code",
   "execution_count": null,
   "id": "73d8858a-a169-44d5-a013-3d106e594d04",
   "metadata": {},
   "outputs": [],
   "source": [
    "pn.extension()"
   ]
  },
  {
   "cell_type": "code",
   "execution_count": null,
   "id": "97a12fd0-c056-4ead-8704-9ce865db0f79",
   "metadata": {
    "tags": []
   },
   "outputs": [],
   "source": [
    "night = Time(\"2026-05-30\", location=astropy.coordinates.EarthLocation.of_site(\"Cerro Pachon\"))"
   ]
  },
  {
   "cell_type": "code",
   "execution_count": null,
   "id": "17fab578-c944-40d5-a5dd-04481a85988f",
   "metadata": {},
   "outputs": [],
   "source": [
    "warnings.filterwarnings('ignore', message=r'.*Tried to get polar motions for times after IERS data is valid.*')"
   ]
  },
  {
   "cell_type": "markdown",
   "id": "cc89598e-956c-4d1a-88da-f1dd33177bfd",
   "metadata": {},
   "source": [
    "# Load stars"
   ]
  },
  {
   "cell_type": "code",
   "execution_count": null,
   "id": "b19d697f-73b0-471f-a97e-7be94ee63051",
   "metadata": {
    "tags": []
   },
   "outputs": [],
   "source": [
    "sun_coords = astropy.coordinates.get_sun(night)\n",
    "moon_coords = astropy.coordinates.get_moon(night)\n",
    "sun_coords, moon_coords"
   ]
  },
  {
   "cell_type": "code",
   "execution_count": null,
   "id": "f1754f03-4111-405c-a28c-5abe8631b09a",
   "metadata": {
    "tags": []
   },
   "outputs": [],
   "source": [
    "stars_fname = \"bsc5.dat.gz\"\n",
    "if not os.path.isfile(stars_fname):\n",
    "    urllib.request.urlretrieve(\"http://tdc-www.harvard.edu/catalogs/bsc5.dat.gz\", stars_fname)"
   ]
  },
  {
   "cell_type": "markdown",
   "id": "6fb58c62-b502-4cfb-a8f2-7071c71fb25b",
   "metadata": {},
   "source": [
    "Now, load the stars:"
   ]
  },
  {
   "cell_type": "code",
   "execution_count": null,
   "id": "0492de54-b2ac-458e-9641-b1d15c0dcf9f",
   "metadata": {
    "tags": []
   },
   "outputs": [],
   "source": [
    "stars = load_bright_stars(stars_fname)\n",
    "len(stars)"
   ]
  },
  {
   "cell_type": "markdown",
   "id": "da3115da-93f0-4100-8958-148c6907f92d",
   "metadata": {},
   "source": [
    "This is way too many stars. Only consider the brightest:"
   ]
  },
  {
   "cell_type": "code",
   "execution_count": null,
   "id": "3ddd62a6-cd6f-4842-8726-24cf20ae70b3",
   "metadata": {
    "tags": []
   },
   "outputs": [],
   "source": [
    "stars.query(\"Vmag<3.5\", inplace=True)\n",
    "len(stars)"
   ]
  },
  {
   "cell_type": "markdown",
   "id": "9dc4c2d7-9a73-4906-9f19-788e4c37814f",
   "metadata": {
    "execution": {
     "iopub.execute_input": "2023-04-21T19:10:07.171869Z",
     "iopub.status.busy": "2023-04-21T19:10:07.171375Z",
     "iopub.status.idle": "2023-04-21T19:10:07.173953Z",
     "shell.execute_reply": "2023-04-21T19:10:07.173605Z",
     "shell.execute_reply.started": "2023-04-21T19:10:07.171844Z"
    }
   },
   "source": [
    "# Multiple connected views"
   ]
  },
  {
   "cell_type": "code",
   "execution_count": null,
   "id": "a3bd9a40-9d89-44e4-a6cb-54d1beda3655",
   "metadata": {
    "tags": []
   },
   "outputs": [],
   "source": [
    "data_source = {}\n",
    "\n",
    "asphere_plot = bokeh.plotting.figure(\n",
    "    frame_width=768,\n",
    "    frame_height=384,\n",
    "    match_aspect=True,\n",
    "    title=\"Armillary Sphere\",\n",
    ")\n",
    "asphere = ArmillarySphere(mjd=night.mjd, plot=asphere_plot)\n",
    "asphere.add_mjd_slider()\n",
    "\n",
    "data_source['sun'] = asphere.add_marker(\n",
    "    sun_coords.ra.deg,\n",
    "    sun_coords.dec.deg,\n",
    "    name=\"Sun\",\n",
    "    glyph_size=15,\n",
    "    circle_kwargs={\"color\": \"orange\", \"legend_label\": \"Sun\"},\n",
    ")\n",
    "data_source['moon'] = asphere.add_marker(\n",
    "    moon_coords.ra.deg,\n",
    "    moon_coords.dec.deg,\n",
    "    name=\"Moon\",\n",
    "    glyph_size=15,\n",
    "    circle_kwargs={\"color\": \"lightgray\", \"legend_label\": \"Moon\"},\n",
    ")\n",
    "\n",
    "# Scale the size of the star markers with the magnitude of the stars\n",
    "stars[\"glyph_size\"] = 5 * (1.01 - stars[\"Vmag\"] / stars[\"Vmag\"].max())\n",
    "\n",
    "# Actually add the stars\n",
    "data_source['stars'] = asphere.add_stars(stars, mag_limit_slider=False, star_kwargs={\"color\": \"black\"})\n",
    "\n",
    "\n",
    "asphere.add_graticules()\n",
    "asphere.add_ecliptic(legend_label=\"Ecliptic\")\n",
    "asphere.add_galactic_plane(legend_label=\"Galactic plane\")\n",
    "data_source[\"horizon\"] = asphere.add_horizon(line_kwargs={\"legend_label\": \"Horizon\"})\n",
    "data_source[\"high_X\"] = asphere.add_horizon(\n",
    "    zd=70, line_kwargs={\"color\": \"red\", \"line_width\": 2, \"legend_label\": \"ZD=70\" + u'\\N{DEGREE SIGN}'}\n",
    ")\n",
    "asphere.plot.add_layout(asphere.plot.legend[0], \"left\")\n",
    "asphere.show()\n",
    "asphere_fname = bokeh.plotting.save(asphere.figure, filename='asphere.html')\n",
    "\n",
    "with open(asphere_fname, 'r', encoding=\"utf-8\") as in_file:\n",
    "    html_text = in_file.read()\n",
    "\n",
    "updated_html = html_text.replace(\n",
    "    \"<script\",\n",
    "    \"\"\"<script src=\"https://unpkg.com/gpu.js@latest/dist/gpu-browser.min.js\"></script>\n",
    "    <script\"\"\",\n",
    "    1)\n",
    "    \n",
    "with open(asphere_fname, 'w', encoding='utf-8') as out_file:\n",
    "    out_file.write(updated_html)\n",
    "    \n",
    "if False:\n",
    "    # Edit the exported file to source the needed gpujs library\n",
    "    with open(asphere_fname) as in_file:\n",
    "        asphere_soup = bs4.BeautifulSoup(in_file.read())\n",
    "\n",
    "    gpujs_source = asphere_soup.new_tag(\"source\", src=\"https://unpkg.com/gpu.js@latest/dist/gpu-browser.min.js\", type=\"text/javascript\")\n",
    "    asphere_soup.head.append(gpujs_source)\n",
    "\n",
    "    with open(asphere_fname, 'w', encoding='utf-8') as out_file:\n",
    "        out_file.write(str(asphere_soup))"
   ]
  },
  {
   "cell_type": "raw",
   "id": "1ad0b3ec-813b-4177-9e0a-b97ce285479e",
   "metadata": {
    "execution": {
     "iopub.execute_input": "2023-06-12T15:28:29.113818Z",
     "iopub.status.busy": "2023-06-12T15:28:29.113674Z",
     "iopub.status.idle": "2023-06-12T15:28:29.262061Z",
     "shell.execute_reply": "2023-06-12T15:28:29.261147Z",
     "shell.execute_reply.started": "2023-06-12T15:28:29.113805Z"
    },
    "tags": []
   },
   "source": [
    "psphere_plot = bokeh.plotting.figure(\n",
    "    plot_width=768,\n",
    "    frame_height=384,\n",
    "    match_aspect=True,\n",
    "    title=\"Planisphere\",\n",
    ")\n",
    "psphere = Planisphere(mjd=night.mjd, plot=psphere_plot)\n",
    "psphere.add_mjd_slider()\n",
    "psphere.sliders['mjd'] = asphere.sliders['mjd']\n",
    "psphere.add_graticules(\n",
    "    graticule_kwargs={\n",
    "        \"min_decl\": -80,\n",
    "        \"max_decl\": 80,\n",
    "        \"decl_space\": 20,\n",
    "        \"min_ra\": 0,\n",
    "        \"max_ra\": 360,\n",
    "        \"ra_space\": 30,\n",
    "    },\n",
    "    line_kwargs={\"color\": \"lightgray\"},\n",
    ")\n",
    "\n",
    "psphere.add_marker(\n",
    "    data_source=data_source['sun'],\n",
    "    name=\"Sun\",\n",
    "    glyph_size=15,\n",
    "    circle_kwargs={\"color\": \"orange\", \"legend_label\": \"Sun\"},\n",
    ")\n",
    "\n",
    "psphere.add_marker(\n",
    "    data_source=data_source['moon'],\n",
    "    name=\"Moon\",\n",
    "    glyph_size=15,\n",
    "    circle_kwargs={\"color\": \"lightgray\", \"legend_label\": \"Moon\"},\n",
    ")\n",
    "\n",
    "psphere.plot.star(\n",
    "            x=psphere.proj_transform(\"x\", data_source['stars']),\n",
    "            y=psphere.proj_transform(\"y\", data_source['stars']),\n",
    "            size=\"glyph_size\",\n",
    "            source=data_source['stars'],\n",
    "            color='black',\n",
    "        )\n",
    "    \n",
    "psphere.add_ecliptic(legend_label=\"Ecliptic\")\n",
    "psphere.add_galactic_plane(legend_label=\"Galactic plane\")\n",
    "psphere.add_horizon(data_source=data_source[\"horizon\"], line_kwargs={\"legend_label\": \"Horizon\"})\n",
    "psphere.add_horizon(\n",
    "    data_source=data_source[\"high_X\"], line_kwargs={\"color\": \"red\", \"line_width\": 2, \"legend_label\": \"ZD=70\" + u'\\N{DEGREE SIGN}'}\n",
    ")\n",
    "psphere.plot.add_layout(psphere.plot.legend[0], \"left\")\n",
    "psphere.show()\n",
    "bokeh.plotting.save(psphere.figure, filename='planisphere.html')"
   ]
  },
  {
   "cell_type": "code",
   "execution_count": null,
   "id": "4ee44bbd-5d2f-4e34-b5f3-4e2260db5e91",
   "metadata": {
    "tags": []
   },
   "outputs": [],
   "source": [
    "msphere_plot = bokeh.plotting.figure(\n",
    "    frame_width=768,\n",
    "    frame_height=384,\n",
    "    match_aspect=False,\n",
    "    title=\"Mollweide\",\n",
    ")\n",
    "msphere = MollweideMap(mjd=night.mjd, plot=msphere_plot)\n",
    "msphere.add_mjd_slider()\n",
    "msphere.sliders['mjd'] = asphere.sliders['mjd']\n",
    "\n",
    "msphere.add_marker(\n",
    "    data_source=data_source['sun'],\n",
    "    name=\"Sun\",\n",
    "    glyph_size=15,\n",
    "    circle_kwargs={\"color\": \"orange\", \"legend_label\": \"Sun\"},\n",
    ")\n",
    "\n",
    "msphere.add_marker(\n",
    "    data_source=data_source['moon'],\n",
    "    name=\"Moon\",\n",
    "    glyph_size=15,\n",
    "    circle_kwargs={\"color\": \"lightgray\", \"legend_label\": \"Moon\"},\n",
    ")\n",
    "\n",
    "msphere.plot.star(\n",
    "            x=msphere.proj_transform(\"x\", data_source['stars']),\n",
    "            y=msphere.proj_transform(\"y\", data_source['stars']),\n",
    "            size=\"glyph_size\",\n",
    "            source=data_source['stars'],\n",
    "            color='black',\n",
    "        )\n",
    "\n",
    "msphere.add_graticules(\n",
    "    graticule_kwargs={\n",
    "        \"min_decl\": -80,\n",
    "        \"max_decl\": 80,\n",
    "        \"decl_space\": 20,\n",
    "        \"min_ra\": 0,\n",
    "        \"max_ra\": 360,\n",
    "        \"ra_space\": 30,\n",
    "    },\n",
    "    line_kwargs={\"color\": \"lightgray\"},\n",
    ")\n",
    "# HACK to make the RA=180 graticule appear both on the left and right\n",
    "msphere.add_graticules(\n",
    "    graticule_kwargs={\n",
    "        \"min_decl\": -80,\n",
    "        \"max_decl\": 80,\n",
    "        \"decl_space\": 160,\n",
    "        \"min_ra\": 180 - 4,\n",
    "        \"max_ra\": 180 + 5,\n",
    "        \"ra_space\": 8,\n",
    "    },\n",
    "    line_kwargs={\"color\": \"lightgray\"},\n",
    ")\n",
    "\n",
    "msphere.add_ecliptic(legend_label=\"Ecliptic\")\n",
    "msphere.add_galactic_plane(legend_label=\"Galactic plane\")\n",
    "msphere.add_horizon(data_source=data_source[\"horizon\"], line_kwargs={\"legend_label\": \"Horizon\"})\n",
    "msphere.add_horizon(\n",
    "    data_source=data_source[\"high_X\"], line_kwargs={\"color\": \"red\", \"line_width\": 2, \"legend_label\": \"ZD=70\" + u'\\N{DEGREE SIGN}'}\n",
    ")\n",
    "\n",
    "msphere.plot.add_layout(msphere.plot.legend[0], \"left\")\n",
    "msphere.show()\n",
    "bokeh.plotting.save(msphere.figure, filename='mollweide.html')"
   ]
  },
  {
   "cell_type": "code",
   "execution_count": null,
   "id": "132907f0-aaf9-4f74-a00a-9af3f3afa41d",
   "metadata": {},
   "outputs": [],
   "source": []
  }
 ],
 "metadata": {
  "kernelspec": {
   "display_name": "updated0",
   "language": "python",
   "name": "updated0"
  },
  "language_info": {
   "codemirror_mode": {
    "name": "ipython",
    "version": 3
   },
   "file_extension": ".py",
   "mimetype": "text/x-python",
   "name": "python",
   "nbconvert_exporter": "python",
   "pygments_lexer": "ipython3",
   "version": "3.10.11"
  }
 },
 "nbformat": 4,
 "nbformat_minor": 5
}
