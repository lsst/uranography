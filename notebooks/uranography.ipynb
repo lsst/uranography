{
 "cells": [
  {
   "cell_type": "code",
   "execution_count": null,
   "id": "c0436180-4435-41b8-812f-e219625d1883",
   "metadata": {
    "tags": []
   },
   "outputs": [],
   "source": [
    "import os\n",
    "import warnings\n",
    "import numpy as np\n",
    "import healpy as hp\n",
    "import bokeh\n",
    "import colorcet as cc\n",
    "import pandas as pd\n",
    "import panel as pn\n",
    "from astropy.time import Time\n",
    "import sqlite3\n",
    "import urllib.request\n",
    "import astropy.coordinates\n",
    "\n",
    "import healsparse as hsp\n",
    "\n",
    "from uranography.api import (\n",
    "    Planisphere,\n",
    "    ArmillarySphere,\n",
    "    MollweideMap,\n",
    "    HorizonMap,\n",
    "    split_healpix_by_resolution,\n",
    "    load_bright_stars,\n",
    "    CameraFootprintPerimeter,\n",
    ")"
   ]
  },
  {
   "cell_type": "code",
   "execution_count": null,
   "id": "4494afa4-4fec-49d2-828e-bc35f1bae14b",
   "metadata": {
    "tags": []
   },
   "outputs": [],
   "source": [
    "pn.extension()"
   ]
  },
  {
   "cell_type": "code",
   "execution_count": null,
   "id": "045d6d28-0d43-4e0d-9fa6-77bc27113039",
   "metadata": {
    "tags": []
   },
   "outputs": [],
   "source": [
    "night = Time(\"2026-05-30\", location=astropy.coordinates.EarthLocation.of_site(\"Cerro Pachon\"))"
   ]
  },
  {
   "cell_type": "code",
   "execution_count": null,
   "id": "8de75feb-3d6b-4b70-9c07-b5ea8e5f5617",
   "metadata": {},
   "outputs": [],
   "source": [
    "warnings.filterwarnings('ignore', message=r'.*Tried to get polar motions for times after IERS data is valid.*')"
   ]
  },
  {
   "cell_type": "markdown",
   "id": "ec78cba6-cd9f-4865-944a-a5ecc7875a1a",
   "metadata": {},
   "source": [
    "# Sample data"
   ]
  },
  {
   "cell_type": "markdown",
   "id": "bb4e7477-c068-428b-92a1-ea9212f3cbb8",
   "metadata": {},
   "source": [
    "Just to have some data to plot, make a simple data source of a few globular clusters, just as you would for any other `bokeh` plot:"
   ]
  },
  {
   "cell_type": "code",
   "execution_count": null,
   "id": "6710222c-b2f3-4fd1-90a5-da1fac5a418b",
   "metadata": {
    "tags": []
   },
   "outputs": [],
   "source": [
    "sample_data_source = bokeh.models.ColumnDataSource({\n",
    "    'name': ['47 Tuc', 'M79', 'M68', 'M53', 'omega Cen', 'M3', 'M5'],\n",
    "    'coords': [(6.024, -72.081), (81.046, -24.525), (189.867, -26.744), (198.23, 18.168), (201.697, -47.48), (205.548, 28.377), (229.638, 2.081)]\n",
    "})\n",
    "\n",
    "# pandas DataFrames are prettier in jupyter, so us to_df() to show it:\n",
    "sample_data_source.to_df()"
   ]
  },
  {
   "cell_type": "markdown",
   "id": "46b6d18a-10b9-4a20-a4ba-fea996256e38",
   "metadata": {},
   "source": [
    "# Simplest example"
   ]
  },
  {
   "cell_type": "code",
   "execution_count": null,
   "id": "4f6a6d79-47c6-4a2e-b6a8-4d79cf6e2612",
   "metadata": {
    "tags": []
   },
   "outputs": [],
   "source": [
    "psphere = Planisphere()\n",
    "psphere.decorate()\n",
    "\n",
    "# At this point, psphere.plot is a normal instance of bokeh.plotting.Figure, and you can use the standard bokeh API to add whatever you want to this basic figure.\n",
    "# To use projected coordinates, use the psphere.x_transform and psphere.y_transform methods.\n",
    "psphere.plot.circle(x=psphere.x_transform('coords'), y=psphere.y_transform('coords'), color='red', source=sample_data_source)\n",
    "\n",
    "psphere.notebook_display()"
   ]
  },
  {
   "cell_type": "markdown",
   "id": "e8a9d739-b3b6-420b-9535-dac5e4c38c7e",
   "metadata": {},
   "source": [
    "# Slightly less simple example\n",
    "\n",
    "Similar to the example above, but taking more control of the details and including an `mjd` slider:"
   ]
  },
  {
   "cell_type": "code",
   "execution_count": null,
   "id": "de150d15-b9eb-4c9f-8eae-ffc9a7663ab4",
   "metadata": {
    "tags": []
   },
   "outputs": [],
   "source": [
    "plot = bokeh.plotting.figure(\n",
    "    frame_width=512,\n",
    "    frame_height=512,\n",
    "    match_aspect=True,\n",
    "    title=\"Sample 1\",\n",
    ")\n",
    "psphere = Planisphere(mjd=night.mjd, plot=plot)\n",
    "psphere.add_mjd_slider()\n",
    "psphere.add_graticules(\n",
    "    graticule_kwargs={\n",
    "        \"min_decl\": -80,\n",
    "        \"max_decl\": 80,\n",
    "        \"decl_space\": 20,\n",
    "        \"min_ra\": 0,\n",
    "        \"max_ra\": 360,\n",
    "        \"ra_space\": 30,\n",
    "    },\n",
    "    line_kwargs={\"color\": \"lightgray\"},\n",
    ")\n",
    "psphere.add_ecliptic(color=\"green\")\n",
    "psphere.add_galactic_plane(color=\"blue\")\n",
    "psphere.add_horizon()\n",
    "psphere.add_horizon(zd=70, line_kwargs={\"color\": \"red\", \"line_width\": 2})\n",
    "\n",
    "# Plot our sample data using the standard bokeh API\n",
    "psphere.plot.star(x=psphere.x_transform('coords'), y=psphere.y_transform('coords'), color='orange', size=8, source=sample_data_source)\n",
    "\n",
    "psphere.notebook_display()"
   ]
  },
  {
   "cell_type": "markdown",
   "id": "35bc25e3-c300-4a93-a9a0-2a3cce4e4529",
   "metadata": {},
   "source": [
    "# Simple armillary sphere example"
   ]
  },
  {
   "cell_type": "code",
   "execution_count": null,
   "id": "48fd12d3-0622-4775-892e-b9c0021d3750",
   "metadata": {
    "tags": []
   },
   "outputs": [],
   "source": [
    "plot = bokeh.plotting.figure(\n",
    "    frame_width=512,\n",
    "    frame_height=512,\n",
    "    match_aspect=True,\n",
    "    title=\"Sample 2\",\n",
    ")\n",
    "asphere = ArmillarySphere(mjd=night.mjd, plot=plot)\n",
    "asphere.add_mjd_slider()\n",
    "asphere.add_graticules()\n",
    "asphere.add_ecliptic()\n",
    "asphere.add_galactic_plane()\n",
    "asphere.add_horizon()\n",
    "asphere.add_horizon(zd=70, line_kwargs={\"color\": \"red\", \"line_width\": 2})\n",
    "\n",
    "# Plot our sample data using the standard bokeh API\n",
    "asphere.plot.circle(x=asphere.x_transform('coords'), y=asphere.y_transform('coords'), color='orange', size=8, source=sample_data_source)\n",
    "asphere.connect_controls(sample_data_source) ;# Needed to update the projected x and y when the sliders move.\n",
    "\n",
    "asphere.notebook_display()"
   ]
  },
  {
   "cell_type": "markdown",
   "id": "52d24c01-0386-4aae-8667-b5d8f8f7890d",
   "metadata": {
    "execution": {
     "iopub.execute_input": "2023-04-21T19:10:07.171869Z",
     "iopub.status.busy": "2023-04-21T19:10:07.171375Z",
     "iopub.status.idle": "2023-04-21T19:10:07.173953Z",
     "shell.execute_reply": "2023-04-21T19:10:07.173605Z",
     "shell.execute_reply.started": "2023-04-21T19:10:07.171844Z"
    }
   },
   "source": [
    "# Multiple connected views"
   ]
  },
  {
   "cell_type": "code",
   "execution_count": null,
   "id": "ed283de5-f0af-498c-9db9-13ad20afae46",
   "metadata": {
    "tags": []
   },
   "outputs": [],
   "source": [
    "data_source = {}\n",
    "\n",
    "asphere_plot = bokeh.plotting.figure(\n",
    "    frame_width=512,\n",
    "    frame_height=512,\n",
    "    match_aspect=True,\n",
    "    title=\"Sample 3a\",\n",
    ")\n",
    "asphere = ArmillarySphere(mjd=night.mjd, plot=asphere_plot)\n",
    "asphere.add_mjd_slider()\n",
    "\n",
    "asphere.plot.star(x=asphere.x_transform('coords'), y=asphere.y_transform('coords'), color='orange', size=8, source=sample_data_source)\n",
    "asphere.connect_controls(sample_data_source)\n",
    "\n",
    "asphere.add_graticules()\n",
    "asphere.add_ecliptic()\n",
    "asphere.add_galactic_plane()\n",
    "data_source[\"horizon\"] = asphere.add_horizon()\n",
    "data_source[\"high_X\"] = asphere.add_horizon(\n",
    "    zd=70, line_kwargs={\"color\": \"red\", \"line_width\": 2}\n",
    ")\n",
    "\n",
    "psphere_plot = bokeh.plotting.figure(\n",
    "    frame_width=512,\n",
    "    frame_height=512,\n",
    "    match_aspect=True,\n",
    "    title=\"Sample 3b\",\n",
    ")\n",
    "psphere = Planisphere(mjd=night.mjd, plot=psphere_plot)\n",
    "psphere.sliders['mjd'] = asphere.sliders['mjd']\n",
    "psphere.plot.star(x=psphere.x_transform('coords'), y=psphere.y_transform('coords'), color='orange', size=8, source=sample_data_source)\n",
    "psphere.add_graticules(\n",
    "    graticule_kwargs={\n",
    "        \"min_decl\": -80,\n",
    "        \"max_decl\": 80,\n",
    "        \"decl_space\": 20,\n",
    "        \"min_ra\": 0,\n",
    "        \"max_ra\": 360,\n",
    "        \"ra_space\": 30,\n",
    "    },\n",
    "    line_kwargs={\"color\": \"lightgray\"},\n",
    ")\n",
    "psphere.add_ecliptic()\n",
    "psphere.add_galactic_plane()\n",
    "psphere.add_horizon(data_source=data_source[\"horizon\"])\n",
    "psphere.add_horizon(\n",
    "    data_source=data_source[\"high_X\"], line_kwargs={\"color\": \"red\", \"line_width\": 2}\n",
    ")\n",
    "\n",
    "msphere_plot = bokeh.plotting.figure(\n",
    "    frame_width=1024,\n",
    "    frame_height=512,\n",
    "    match_aspect=False,\n",
    "    title=\"Sample 3c\",\n",
    ")\n",
    "msphere = MollweideMap(mjd=night.mjd, plot=msphere_plot)\n",
    "msphere.sliders['mjd'] = asphere.sliders['mjd']\n",
    "msphere.plot.star(x=msphere.x_transform('coords'), y=msphere.y_transform('coords'), color='orange', size=8, source=sample_data_source)\n",
    "\n",
    "msphere.add_graticules(\n",
    "    graticule_kwargs={\n",
    "        \"min_decl\": -80,\n",
    "        \"max_decl\": 80,\n",
    "        \"decl_space\": 20,\n",
    "        \"min_ra\": 0,\n",
    "        \"max_ra\": 360,\n",
    "        \"ra_space\": 30,\n",
    "    },\n",
    "    line_kwargs={\"color\": \"lightgray\"},\n",
    ")\n",
    "\n",
    "msphere.add_ecliptic()\n",
    "msphere.add_galactic_plane()\n",
    "msphere.add_horizon(data_source=data_source[\"horizon\"])\n",
    "msphere.add_horizon(\n",
    "    data_source=data_source[\"high_X\"], line_kwargs={\"color\": \"red\", \"line_width\": 2}\n",
    ")\n",
    "\n",
    "viewable = pn.Column(msphere.figure, pn.Row(asphere.figure, psphere.figure))\n",
    "\n",
    "# These would be necessary if we had healpix maps\n",
    "msphere.update(viewable)\n",
    "asphere.update(viewable)\n",
    "psphere.update(viewable)\n",
    "pn.io.push_notebook(viewable)\n",
    "\n",
    "viewable"
   ]
  },
  {
   "cell_type": "markdown",
   "id": "c4049de8-6e22-4101-a900-0760e8a2ea14",
   "metadata": {},
   "source": [
    "# Add the sun, moon, and stars"
   ]
  },
  {
   "cell_type": "markdown",
   "id": "0046c616-a926-41af-a716-1c60a2ef9d94",
   "metadata": {},
   "source": [
    "Use `astropy` to get the position of the sun and moon:"
   ]
  },
  {
   "cell_type": "code",
   "execution_count": null,
   "id": "5a3b5f60-2f8d-4c9a-9a44-fab495f922b3",
   "metadata": {
    "tags": []
   },
   "outputs": [],
   "source": [
    "sun_coords = astropy.coordinates.get_sun(night)\n",
    "moon_coords = astropy.coordinates.get_moon(night)\n",
    "sun_coords, moon_coords"
   ]
  },
  {
   "cell_type": "markdown",
   "id": "c2102e3c-c019-441e-9a81-bae8310b0939",
   "metadata": {},
   "source": [
    "Load the Yale bright star catalog."
   ]
  },
  {
   "cell_type": "markdown",
   "id": "9ebe3735-6a3f-47dd-a143-925906468365",
   "metadata": {},
   "source": [
    "If we don't have it locally, get it:"
   ]
  },
  {
   "cell_type": "code",
   "execution_count": null,
   "id": "f1754f03-4111-405c-a28c-5abe8631b09a",
   "metadata": {
    "tags": []
   },
   "outputs": [],
   "source": [
    "stars_fname = \"bsc5.dat.gz\"\n",
    "if not os.path.isfile(stars_fname):\n",
    "    urllib.request.urlretrieve(\"http://tdc-www.harvard.edu/catalogs/bsc5.dat.gz\", stars_fname)"
   ]
  },
  {
   "cell_type": "markdown",
   "id": "cd0ae1ce-b370-4952-bc52-85f5096d8dcb",
   "metadata": {},
   "source": [
    "Now, load the stars:"
   ]
  },
  {
   "cell_type": "code",
   "execution_count": null,
   "id": "0492de54-b2ac-458e-9641-b1d15c0dcf9f",
   "metadata": {
    "tags": []
   },
   "outputs": [],
   "source": [
    "stars = load_bright_stars(stars_fname)\n",
    "len(stars)"
   ]
  },
  {
   "cell_type": "markdown",
   "id": "d1982da4-5ef6-41b6-9252-218339034570",
   "metadata": {},
   "source": [
    "This is way too many stars. Only consider the brightest:"
   ]
  },
  {
   "cell_type": "code",
   "execution_count": null,
   "id": "3ddd62a6-cd6f-4842-8726-24cf20ae70b3",
   "metadata": {
    "tags": []
   },
   "outputs": [],
   "source": [
    "stars.query(\"Vmag<3.5\", inplace=True)\n",
    "len(stars)"
   ]
  },
  {
   "cell_type": "markdown",
   "id": "147765d5-d15d-46a3-be4b-04f8bb4e590f",
   "metadata": {},
   "source": [
    "Now show the figure:"
   ]
  },
  {
   "cell_type": "code",
   "execution_count": null,
   "id": "33a8cdba-939b-4beb-ab35-f21c898983a4",
   "metadata": {
    "tags": []
   },
   "outputs": [],
   "source": [
    "asphere = ArmillarySphere(mjd=night.mjd)\n",
    "asphere.add_mjd_slider()\n",
    "asphere.add_graticules()\n",
    "asphere.add_ecliptic()\n",
    "asphere.add_galactic_plane()\n",
    "asphere.add_horizon()\n",
    "asphere.add_horizon(zd=70, line_kwargs={\"color\": \"red\", \"line_width\": 2})\n",
    "\n",
    "asphere.add_marker(\n",
    "    sun_coords.ra.deg,\n",
    "    sun_coords.dec.deg,\n",
    "    name=\"Sun\",\n",
    "    glyph_size=15,\n",
    "    circle_kwargs={\"color\": \"brown\"},\n",
    ")\n",
    "asphere.add_marker(\n",
    "    moon_coords.ra.deg,\n",
    "    moon_coords.dec.deg,\n",
    "    name=\"Moon\",\n",
    "    glyph_size=15,\n",
    "    circle_kwargs={\"color\": \"orange\"},\n",
    ")\n",
    "\n",
    "# Scale the size of the star markers with the magnitude of the stars\n",
    "stars[\"glyph_size\"] = 15 * (1.01 - stars[\"Vmag\"] / stars[\"Vmag\"].max())\n",
    "\n",
    "# Actually add the stars\n",
    "asphere.add_stars(stars, mag_limit_slider=True, star_kwargs={\"color\": \"black\"})\n",
    "\n",
    "# Set the limit of the slider according to the stars we've included\n",
    "asphere.sliders[\"mag_limit\"].end = stars[\"Vmag\"].max()\n",
    "\n",
    "asphere.notebook_display()"
   ]
  },
  {
   "cell_type": "markdown",
   "id": "e897f1fe-44ab-49c3-bedf-a1d4cc2155b9",
   "metadata": {},
   "source": [
    "# Horizon coordinates"
   ]
  },
  {
   "cell_type": "markdown",
   "id": "b52ea98c-6d16-4e47-a5ed-5bea22cca072",
   "metadata": {},
   "source": [
    "You can show a map in a horizon (az/alt polar) projection:"
   ]
  },
  {
   "cell_type": "code",
   "execution_count": null,
   "id": "548f8bd2-3fe9-4434-aeb1-b8921f45c9fa",
   "metadata": {
    "tags": []
   },
   "outputs": [],
   "source": [
    "hsphere = HorizonMap(mjd=night.mjd)\n",
    "hsphere.add_mjd_slider()\n",
    "hsphere.add_horizon_graticules()\n",
    "hsphere.add_horizon()\n",
    "hsphere.add_ecliptic()\n",
    "hsphere.add_galactic_plane()\n",
    "\n",
    "hsphere.add_marker(\n",
    "    sun_coords.ra.deg,\n",
    "    sun_coords.dec.deg,\n",
    "    name=\"Sun\",\n",
    "    glyph_size=15,\n",
    "    circle_kwargs={\"color\": \"brown\"},\n",
    ")\n",
    "hsphere.add_marker(\n",
    "    moon_coords.ra.deg,\n",
    "    moon_coords.dec.deg,\n",
    "    name=\"Moon\",\n",
    "    glyph_size=15,\n",
    "    circle_kwargs={\"color\": \"orange\"},\n",
    ")\n",
    "hsphere.add_stars(stars, mag_limit_slider=True, star_kwargs={\"color\": \"black\"})\n",
    "hsphere.notebook_display()"
   ]
  },
  {
   "cell_type": "markdown",
   "id": "8a459ad0-0eb9-4d2e-ada3-b13c47940b26",
   "metadata": {},
   "source": [
    "You can show horizon graticules in any of the projections:"
   ]
  },
  {
   "cell_type": "code",
   "execution_count": null,
   "id": "e76b1824-6cd6-4d4c-82ca-9be7848296dd",
   "metadata": {
    "tags": []
   },
   "outputs": [],
   "source": [
    "asphere = ArmillarySphere(mjd=night.mjd)\n",
    "asphere.add_mjd_slider()\n",
    "asphere.add_graticules()\n",
    "asphere.add_ecliptic()\n",
    "asphere.add_galactic_plane()\n",
    "asphere.add_horizon_graticules(line_kwargs={\"color\": \"red\", \"line_dash\": \"dotted\"})\n",
    "asphere.notebook_display()"
   ]
  },
  {
   "cell_type": "markdown",
   "id": "57429ef7-89ad-430e-b0a5-ecfdd140b03d",
   "metadata": {},
   "source": [
    "# Show a healpix map"
   ]
  },
  {
   "cell_type": "markdown",
   "id": "6d3a3fa0-5462-4e0f-8d11-177b8aa38a56",
   "metadata": {},
   "source": [
    "Get the healpix dust map from `rubin_sim` as an example healpix map."
   ]
  },
  {
   "cell_type": "code",
   "execution_count": null,
   "id": "795102a1-090a-4dce-ad59-9f472f038364",
   "metadata": {
    "tags": []
   },
   "outputs": [],
   "source": [
    "depth_fname = 'r_depth.fits'"
   ]
  },
  {
   "cell_type": "code",
   "execution_count": null,
   "id": "0364a62e-6fc2-443f-a167-a2a1da1652bb",
   "metadata": {
    "tags": []
   },
   "outputs": [],
   "source": [
    "depth = hp.ud_grade(hp.read_map(depth_fname), 32)"
   ]
  },
  {
   "cell_type": "markdown",
   "id": "caf67741-e22a-4e4b-8101-abb45cdd432a",
   "metadata": {},
   "source": [
    "Make a `bokeh` color map:"
   ]
  },
  {
   "cell_type": "code",
   "execution_count": null,
   "id": "d2196559-2014-4f7d-9611-7a4242027da9",
   "metadata": {
    "tags": []
   },
   "outputs": [],
   "source": [
    "cmap = bokeh.transform.linear_cmap(\n",
    "    \"value\", \"Inferno256\", 23, 27.5\n",
    ")"
   ]
  },
  {
   "cell_type": "code",
   "execution_count": null,
   "id": "364620e5-71a0-4f74-adea-86d76a6df940",
   "metadata": {
    "tags": []
   },
   "outputs": [],
   "source": [
    "asphere = ArmillarySphere(mjd=night.mjd)\n",
    "asphere.add_healpix(depth, nside=32, cmap=cmap)\n",
    "asphere.add_graticules()\n",
    "asphere.add_ecliptic(color=\"lightgreen\")\n",
    "asphere.add_galactic_plane(color=\"lightblue\")\n",
    "asphere.notebook_display()"
   ]
  },
  {
   "cell_type": "markdown",
   "id": "f0112fb8-ee73-472b-ae71-7275e1d4b366",
   "metadata": {},
   "source": [
    "# Show a healsparse map"
   ]
  },
  {
   "cell_type": "markdown",
   "id": "3417164d-8c0e-40f3-878f-4e71faa5fb45",
   "metadata": {},
   "source": [
    "At nsides greater than 32, interactivity can be sluggish. Sometimes you can reduce the number of pixels by only displaying some regions of the sky. For example, we can show only the high dust areas in the dust map above:"
   ]
  },
  {
   "cell_type": "code",
   "execution_count": null,
   "id": "f80c1f00-9593-4c4d-9dbb-c70b13479333",
   "metadata": {
    "tags": []
   },
   "outputs": [],
   "source": [
    "# Get a higher resolution healpix map\n",
    "depth64_ring = hp.ud_grade(hp.read_map(depth_fname), 64)\n",
    "depth64 = hp.reorder(depth64_ring, inp=\"RING\", out=\"NESTED\")\n",
    "\n",
    "# Cut off any pixels lower than the bottom for our color map\n",
    "depth64[depth64 < cmap[\"transform\"].low] = hp.UNSEEN\n",
    "\n",
    "# Make a healsparse map with just the seen healpixel\n",
    "depth_hsp = hsp.HealSparseMap(nside_coverage=16, healpix_map=depth64)"
   ]
  },
  {
   "cell_type": "markdown",
   "id": "0f516747-6012-4d8e-861e-3cdb65712f0b",
   "metadata": {},
   "source": [
    "Make a color map such that low dust areas are near white, and thus fall to white as dust drops:"
   ]
  },
  {
   "cell_type": "code",
   "execution_count": null,
   "id": "7b63b2c8-cfb0-451e-b093-193944ff5c69",
   "metadata": {
    "tags": []
   },
   "outputs": [],
   "source": [
    "asphere = ArmillarySphere(mjd=night.mjd)\n",
    "asphere.add_healpix(depth_hsp, nside=64, cmap=cmap)\n",
    "asphere.add_graticules()\n",
    "asphere.add_ecliptic(color=\"lightgreen\")\n",
    "asphere.add_galactic_plane(color=\"lightblue\")\n",
    "asphere.notebook_display()"
   ]
  },
  {
   "cell_type": "markdown",
   "id": "cf48ff72-1dfd-4279-b85b-166919b7d8f9",
   "metadata": {
    "execution": {
     "iopub.execute_input": "2023-04-24T19:58:39.400081Z",
     "iopub.status.busy": "2023-04-24T19:58:39.399848Z",
     "iopub.status.idle": "2023-04-24T19:58:39.402451Z",
     "shell.execute_reply": "2023-04-24T19:58:39.402013Z",
     "shell.execute_reply.started": "2023-04-24T19:58:39.400062Z"
    },
    "tags": []
   },
   "source": [
    "# Survey footprint"
   ]
  },
  {
   "cell_type": "markdown",
   "id": "5c673a62-be4d-4cfd-a9b0-418bc920cd29",
   "metadata": {},
   "source": [
    "Get a survey footprint (in heapix format):"
   ]
  },
  {
   "cell_type": "code",
   "execution_count": null,
   "id": "e10594d1-3990-4f07-a134-c3e60bb76cbb",
   "metadata": {
    "tags": []
   },
   "outputs": [],
   "source": [
    "nside = 64\n",
    "footprint = hp.ud_grade(hp.read_map('sample_survey_footprint.fits'), nside)"
   ]
  },
  {
   "cell_type": "code",
   "execution_count": null,
   "id": "4ef74b2b-fe5c-4908-934b-11ecce128562",
   "metadata": {
    "tags": []
   },
   "outputs": [],
   "source": [
    "low_nside = 16\n",
    "this_footprint = footprint.copy()\n",
    "this_footprint[this_footprint == 0] = hp.UNSEEN\n",
    "footprint_high, footprint_low = split_healpix_by_resolution(\n",
    "    this_footprint, low_nside, nside\n",
    ")"
   ]
  },
  {
   "cell_type": "code",
   "execution_count": null,
   "id": "f8cc36ee-b8d3-42b3-b6d8-29c790751723",
   "metadata": {
    "tags": []
   },
   "outputs": [],
   "source": [
    "asphere = ArmillarySphere(mjd=night.mjd)\n",
    "\n",
    "cmap = bokeh.transform.linear_cmap(\"value\", cc.palette[\"rainbow4\"], 0, 1)\n",
    "\n",
    "asphere.add_healpix(footprint_high, nside=nside, cmap=cmap)\n",
    "asphere.add_healpix(footprint_low, nside=low_nside, cmap=cmap)\n",
    "asphere.add_graticules()\n",
    "asphere.add_ecliptic(color=\"lightgreen\")\n",
    "asphere.add_galactic_plane(color=\"lightblue\")\n",
    "asphere.notebook_display()"
   ]
  },
  {
   "cell_type": "markdown",
   "id": "9a9e8511-ed77-4e65-93fc-7a333c0880fa",
   "metadata": {},
   "source": [
    "# Arbitrary bokeh"
   ]
  },
  {
   "cell_type": "markdown",
   "id": "ba4290eb-5ffb-46fb-817f-c03df07917a1",
   "metadata": {},
   "source": [
    "## Data sources with point locations"
   ]
  },
  {
   "cell_type": "markdown",
   "id": "a8877108-80e7-4003-9bbe-b30bcba1d027",
   "metadata": {},
   "source": [
    "Use `asphere.make_points` to create the data source.\n",
    "\n",
    "The `plot` member of `SphereMap` and its children (`ArmillarySphere`, etc.) is just a normal `bokeh.plotting.Figure`.\n",
    "\n",
    "The `proj_transform`, `x_transform`, and `y_transform` methods of `SphereMap` and its children create `bokeh` transforms that can be used to handle projections.\n",
    "\n",
    "So, to plot on the projection plane using any of the varous methods of `bokeh.plotting.Figure`, create an appropriate `bokeh` data source and use the relevant `transform` method of the `SphereMap` instance to provide the transforms.\n",
    "\n",
    "By default, when you create your own `bokeh` data source, the transforms will not be updated when you manipulate the plot with the controls. To make your new points reactive, you also need to call the `connect_controls` method of your `SphereMap` instance on your `bokeh` data source."
   ]
  },
  {
   "cell_type": "markdown",
   "id": "cf78981c-3b9f-4232-8588-45b91feafaae",
   "metadata": {},
   "source": [
    "There are two ways to apply the transforms. The first method requires creation of a data source with a column with the coordinates expressed as R.A., declination tuples (expressed as degrees):"
   ]
  },
  {
   "cell_type": "code",
   "execution_count": null,
   "id": "88d583da-3838-4e33-a3b1-a93fa4ac8816",
   "metadata": {
    "tags": []
   },
   "outputs": [],
   "source": [
    "npoints = 100\n",
    "\n",
    "asphere = ArmillarySphere(mjd=night.mjd)\n",
    "\n",
    "ra_values = np.random.random(npoints)*360\n",
    "decl_values = np.random.random(npoints)*180-90\n",
    "\n",
    "# Create a pandas.DataFrame from wich\n",
    "sample_data_source = bokeh.models.ColumnDataSource(\n",
    "    {\n",
    "        \"name\": [f\"sample_{i+1}\" for i in np.arange(npoints)],\n",
    "        \"foo\": 2+10*np.random.random(npoints), # Just some random values\n",
    "        \"coords\": [(ra_values[i], decl_values[i]) for i in range(npoints)]\n",
    "    }\n",
    ")\n",
    "\n",
    "asphere = ArmillarySphere(mjd=night.mjd)\n",
    "asphere.connect_controls(sample_data_source)\n",
    "\n",
    "asphere.plot.asterisk(asphere.x_transform('coords'), asphere.y_transform('coords'), size=\"foo\", source=sample_data_source)\n",
    "asphere.add_graticules()\n",
    "asphere.add_ecliptic(color=\"lightgreen\")\n",
    "asphere.add_galactic_plane(color=\"lightblue\")\n",
    "asphere.notebook_display()"
   ]
  },
  {
   "cell_type": "markdown",
   "id": "7c7e6a6b-701d-4943-9972-83a22d5bbca9",
   "metadata": {},
   "source": [
    "Alternately, you can supply `ra` and `decl` columns in the data source with R.A. and declination in degrees, and use the `proj_transform` method instead.\n",
    "\n",
    "This approch is less flexible and less natural to the `bokeh` API, but it works, and can be more convenient:"
   ]
  },
  {
   "cell_type": "code",
   "execution_count": null,
   "id": "1f547ba3-7d8b-47df-afba-5fa0d0607424",
   "metadata": {
    "tags": []
   },
   "outputs": [],
   "source": [
    "npoints = 100\n",
    "sample_df = pd.DataFrame(\n",
    "    {\n",
    "        \"name\": \"sample\",\n",
    "        \"foo\": 2+10*np.random.random(npoints), # Just some random values\n",
    "        \"ra\": np.random.random(npoints) * 360,\n",
    "        \"decl\": np.random.random(npoints) * 180 - 90,\n",
    "    }\n",
    ")\n",
    "asphere = ArmillarySphere(mjd=night.mjd)\n",
    "sample_data_source = bokeh.models.ColumnDataSource(sample_df)\n",
    "asphere.connect_controls(sample_data_source)\n",
    "\n",
    "asphere.plot.asterisk(asphere.proj_transform('x', sample_data_source), asphere.proj_transform('y', sample_data_source), size=\"foo\", source=sample_data_source)\n",
    "asphere.add_graticules()\n",
    "asphere.add_ecliptic(color=\"lightgreen\")\n",
    "asphere.add_galactic_plane(color=\"lightblue\")\n",
    "asphere.notebook_display()"
   ]
  },
  {
   "cell_type": "markdown",
   "id": "0a947e35-0812-4027-94c0-9c8568f3d7a1",
   "metadata": {},
   "source": [
    "## Plotting lines and shapes\n",
    "Plotting lines, patches, and polygons follows the same bokeh api."
   ]
  },
  {
   "cell_type": "code",
   "execution_count": null,
   "id": "2ac0b1ce-02a3-470b-ad39-da20a809c949",
   "metadata": {
    "tags": []
   },
   "outputs": [],
   "source": [
    "asphere = ArmillarySphere(mjd=night.mjd)\n",
    "\n",
    "patch_data_source = bokeh.models.ColumnDataSource({\n",
    "    'coords': [(100, -45), (100, -50), (115, -50), (115, -45)]\n",
    "})\n",
    "asphere.plot.patch(asphere.x_transform('coords'), asphere.y_transform('coords'), color='red', source=patch_data_source)\n",
    "asphere.connect_controls(patch_data_source)\n",
    "\n",
    "line_data_source = bokeh.models.ColumnDataSource({\n",
    "    'coords': [(145, -38), (145, -42), (155, -38), (155, -30)]\n",
    "})\n",
    "asphere.plot.line(asphere.x_transform('coords'), asphere.y_transform('coords'), color='blue', width=5, source=line_data_source)\n",
    "asphere.connect_controls(line_data_source)\n",
    "\n",
    "asphere.add_graticules()\n",
    "asphere.add_ecliptic(color=\"lightgreen\")\n",
    "asphere.add_galactic_plane(color=\"lightblue\")\n",
    "asphere.notebook_display()"
   ]
  },
  {
   "cell_type": "markdown",
   "id": "8118911b-306e-4a5b-9757-8258b995b65c",
   "metadata": {},
   "source": [
    "## Plotting the same shape with different centers"
   ]
  },
  {
   "cell_type": "markdown",
   "id": "959c82f0-ea1a-4380-bc58-cfde90b59923",
   "metadata": {},
   "source": [
    "Use `asphere.make_patches_data_source` to create the data source."
   ]
  },
  {
   "cell_type": "code",
   "execution_count": null,
   "id": "786bf14f-c768-4462-b582-64a38739eaf0",
   "metadata": {
    "tags": []
   },
   "outputs": [],
   "source": [
    "npoints = 25\n",
    "sample_df = pd.DataFrame(\n",
    "    {\n",
    "        \"center_ra\": np.random.random(npoints) * 360,\n",
    "        \"center_decl\": np.random.random(npoints) * 180 - 90,\n",
    "        \"rotation\": 180 * np.random.random(npoints),\n",
    "    }\n",
    ")\n",
    "\n",
    "camera_perimeter = CameraFootprintPerimeter('rubin_idealized.txt')\n",
    "ras, decls = camera_perimeter(\n",
    "    sample_df.center_ra, sample_df.center_decl, sample_df.rotation\n",
    ")\n",
    "sample_df[\"ra\"] = ras\n",
    "sample_df[\"decl\"] = decls\n",
    "sample_df.head()"
   ]
  },
  {
   "cell_type": "code",
   "execution_count": null,
   "id": "2b5d0579-4a3e-437b-83e4-4a81547c850d",
   "metadata": {
    "tags": []
   },
   "outputs": [],
   "source": [
    "asphere = ArmillarySphere(mjd=night.mjd)\n",
    "sample_data_source = bokeh.models.ColumnDataSource(sample_df)\n",
    "asphere.connect_controls(sample_data_source)\n",
    "asphere.plot.patches(\n",
    "    xs=asphere.proj_transform('x', sample_data_source),\n",
    "    ys=asphere.proj_transform('y', sample_data_source),\n",
    "    source=sample_data_source,\n",
    "    line_color=\"blue\",\n",
    "    fill_color=\"red\",\n",
    "    fill_alpha=0.2,\n",
    ")\n",
    "asphere.add_graticules()\n",
    "asphere.add_ecliptic(color=\"lightgreen\")\n",
    "asphere.add_galactic_plane(color=\"lightblue\")\n",
    "asphere.notebook_display()"
   ]
  },
  {
   "cell_type": "markdown",
   "id": "e2caecdc-3141-4c4f-bdcb-f8ca4586f1cf",
   "metadata": {},
   "source": [
    "# Plotting visits for a night, with bells and whistles"
   ]
  },
  {
   "cell_type": "markdown",
   "id": "b89d1bce-8e38-4f41-8f26-454f82953a61",
   "metadata": {},
   "source": [
    "Start with a text file with the list of exposures we want to plot:"
   ]
  },
  {
   "cell_type": "code",
   "execution_count": null,
   "id": "eddd08fe-edda-47a4-92a9-3fbf7d7a1dda",
   "metadata": {
    "tags": []
   },
   "outputs": [],
   "source": [
    "!head exposures.txt"
   ]
  },
  {
   "cell_type": "markdown",
   "id": "943c3775-0a00-4ec9-8600-b4805d5b1b5c",
   "metadata": {},
   "source": [
    "Read it, and add the camera perimeter:"
   ]
  },
  {
   "cell_type": "code",
   "execution_count": null,
   "id": "c99058a8-21ff-4d3d-a25b-4527dff167d8",
   "metadata": {
    "tags": []
   },
   "outputs": [],
   "source": [
    "visits = pd.read_csv('exposures.txt', delim_whitespace=True, header=0, index_col=False)\n",
    "    \n",
    "visits[\"ra\"], visits[\"decl\"] = camera_perimeter(\n",
    "    visits.boresight_ra, visits.boresight_decl, visits.rotation\n",
    ")\n",
    "visits"
   ]
  },
  {
   "cell_type": "code",
   "execution_count": null,
   "id": "b34feb91-36b0-4c6d-a941-e4f277b210b5",
   "metadata": {},
   "outputs": [],
   "source": [
    "initial_mjd = visits.mjd.max()"
   ]
  },
  {
   "cell_type": "raw",
   "id": "068c6bed-4ff2-4ad9-88e4-f8ae2aa0ff6c",
   "metadata": {
    "execution": {
     "iopub.execute_input": "2023-05-05T14:44:01.428580Z",
     "iopub.status.busy": "2023-05-05T14:44:01.428432Z",
     "iopub.status.idle": "2023-05-05T14:44:01.435299Z",
     "shell.execute_reply": "2023-05-05T14:44:01.434826Z",
     "shell.execute_reply.started": "2023-05-05T14:44:01.428566Z"
    },
    "tags": []
   },
   "source": [
    "# Only show the visit if the slider has a value greater than the observation MJD\n",
    "visits[\"min_mjd\"] = visits.mjd\n",
    "visits[\"in_mjd_window\"] = np.where(visits.mjd<=initial_mjd, 0.5, 0)\n",
    "\n",
    "# Emphasize the visits just behind the MJD window,\n",
    "# that is, recent as of the time on the slider\n",
    "visits[\"fade_scale\"] = 2.0 / (24 * 60)\n",
    "visits[\"recent_mjd\"] = np.clip((initial_mjd - visits.mjd) * visits.fade_scale, 0, 1)"
   ]
  },
  {
   "cell_type": "code",
   "execution_count": null,
   "id": "ee44df38-84a0-4f62-b281-121516215f58",
   "metadata": {
    "tags": []
   },
   "outputs": [],
   "source": [
    "# Use the smallest categorical bokeh palette for the number of bands actually used\n",
    "used_bands = [b for b in \"ugrizy\" if b in visits['band'].values]\n",
    "num_bands = len(used_bands)\n",
    "base_palette = bokeh.palettes.Spectral\n",
    "try:\n",
    "    band_palette = dict(zip(used_bands, base_palette[num_bands]))\n",
    "except KeyError:\n",
    "    band_palette = dict(zip(used_bands, base_palette[3][:num_bands]))\n",
    "\n",
    "visits[\"color\"] = visits.band.map(band_palette)"
   ]
  },
  {
   "cell_type": "markdown",
   "id": "62fed4d1-6b3b-451d-85a8-cbb139b59611",
   "metadata": {
    "execution": {
     "iopub.execute_input": "2023-04-25T15:45:20.136277Z",
     "iopub.status.busy": "2023-04-25T15:45:20.136030Z",
     "iopub.status.idle": "2023-04-25T15:45:20.139561Z",
     "shell.execute_reply": "2023-04-25T15:45:20.139232Z",
     "shell.execute_reply.started": "2023-04-25T15:45:20.136247Z"
    },
    "tags": []
   },
   "source": [
    "Sun and moon coordinates:"
   ]
  },
  {
   "cell_type": "code",
   "execution_count": null,
   "id": "fa8d7ad9-a7f7-4c10-b5f0-e9dcc8cea240",
   "metadata": {
    "tags": []
   },
   "outputs": [],
   "source": [
    "sun_coords = astropy.coordinates.get_sun(night)\n",
    "moon_coords = astropy.coordinates.get_moon(night)"
   ]
  },
  {
   "cell_type": "markdown",
   "id": "0424707d-0efe-4ec7-940e-060d46899608",
   "metadata": {},
   "source": [
    "Include the survey footprint:"
   ]
  },
  {
   "cell_type": "code",
   "execution_count": null,
   "id": "37d9a94f-9441-48b1-9e3a-c828b109ba85",
   "metadata": {
    "tags": []
   },
   "outputs": [],
   "source": [
    "nside = 32\n",
    "footprint = hp.ud_grade(hp.read_map('sample_survey_footprint.fits'), nside)\n",
    "\n",
    "low_nside = 16\n",
    "this_footprint = footprint.copy()\n",
    "this_footprint[this_footprint == 0] = hp.UNSEEN\n",
    "footprint_high, footprint_low = split_healpix_by_resolution(\n",
    "    this_footprint, low_nside, nside\n",
    ")"
   ]
  },
  {
   "cell_type": "code",
   "execution_count": null,
   "id": "df8de7e6-7cd0-453e-8bc1-f57711b7b40b",
   "metadata": {
    "tags": []
   },
   "outputs": [],
   "source": [
    "data_source = {}\n",
    "\n",
    "asphere_plot = bokeh.plotting.figure(\n",
    "    frame_width=768,\n",
    "    frame_height=512,\n",
    "    match_aspect=True,\n",
    "    title=\"Armillary Sphere\",\n",
    ")\n",
    "\n",
    "asphere = ArmillarySphere(mjd=initial_mjd, plot=asphere_plot)"
   ]
  },
  {
   "cell_type": "markdown",
   "id": "78738d20-4e3f-4ba6-9f72-620dbd62ef89",
   "metadata": {},
   "source": [
    "Add the footprint in the background:"
   ]
  },
  {
   "cell_type": "code",
   "execution_count": null,
   "id": "6fb79d97-a4c4-4d54-9b3f-7072607f0da7",
   "metadata": {
    "tags": []
   },
   "outputs": [],
   "source": [
    "# Faint gray footprint in the background\n",
    "cmap = bokeh.transform.linear_cmap(\n",
    "    \"value\", list(reversed(bokeh.palettes.Greys256))[:32], 0, 1\n",
    ")\n",
    "data_source['footprint_high'], cm, gl = asphere.add_healpix(footprint_high, nside=nside, cmap=cmap)\n",
    "data_source['footprint_low'], cm, gl = asphere.add_healpix(footprint_low, nside=low_nside, cmap=cmap)"
   ]
  },
  {
   "cell_type": "markdown",
   "id": "c2efa731-9d22-4a18-a4a3-4f355edd3e4e",
   "metadata": {},
   "source": [
    "Create data sources for each band:"
   ]
  },
  {
   "cell_type": "code",
   "execution_count": null,
   "id": "d9c6065b-b0ec-4995-b2b2-a59a1ac5abcb",
   "metadata": {
    "tags": []
   },
   "outputs": [],
   "source": [
    "visit_ds = {}\n",
    "for band in band_palette.keys():\n",
    "    band_visits = visits.query(f\"band=='{band}'\")\n",
    "    if len(band_visits)>0:\n",
    "        visit_ds[band] = bokeh.models.ColumnDataSource(visits.query(f\"band=='{band}'\"))\n",
    "        asphere.connect_controls(visit_ds[band])"
   ]
  },
  {
   "cell_type": "markdown",
   "id": "5fe132ea-1b1e-4547-84c4-548c39314446",
   "metadata": {},
   "source": [
    "Create a transform to hide visits not made until after the date on the MJD slider:"
   ]
  },
  {
   "cell_type": "code",
   "execution_count": null,
   "id": "20c585f4-d5c7-48c8-885d-58f1abc45302",
   "metadata": {
    "tags": []
   },
   "outputs": [],
   "source": [
    "past_future_js = \"\"\"\n",
    "const result = new Array(xs.length)\n",
    "for (let i = 0; i < xs.length; i++) {\n",
    "  if (mjd_slider.value >= xs[i]) {\n",
    "    result[i] = past_value\n",
    "  } else { \n",
    "    result[i] = future_value\n",
    "  }\n",
    "}\n",
    "return result\n",
    "\"\"\"\n",
    "\n",
    "past_future_transform = bokeh.models.CustomJSTransform(\n",
    "            args=dict(\n",
    "                mjd_slider=asphere.sliders['mjd'],\n",
    "                past_value=0.5,\n",
    "                future_value=0.0\n",
    "            ),\n",
    "            v_func=past_future_js,\n",
    "        )"
   ]
  },
  {
   "cell_type": "code",
   "execution_count": null,
   "id": "575623e8-ae0e-40ae-a908-d4cea87a0c3d",
   "metadata": {},
   "outputs": [],
   "source": [
    "recent_js = \"\"\"\n",
    "const result = new Array(xs.length)\n",
    "for (let i = 0; i < xs.length; i++) {\n",
    "  if (mjd_slider.value < xs[i]) {\n",
    "    result[i] = 0\n",
    "  } else {\n",
    "    result[i] = Math.max(0, max_value * (1 - (mjd_slider.value - xs[i]) / scale))\n",
    "  }\n",
    "}\n",
    "return result\n",
    "\"\"\"\n",
    "\n",
    "recent_transform = bokeh.models.CustomJSTransform(\n",
    "            args=dict(\n",
    "                mjd_slider=asphere.sliders['mjd'],\n",
    "                max_value=1.0,\n",
    "                scale=2.0/(24*60)\n",
    "            ),\n",
    "            v_func=recent_js,\n",
    "        )"
   ]
  },
  {
   "cell_type": "markdown",
   "id": "fd8ccf38-a837-4faf-8809-c2686537bdec",
   "metadata": {},
   "source": [
    "Actually add the visits:"
   ]
  },
  {
   "cell_type": "code",
   "execution_count": null,
   "id": "76b24bc4-3d6d-42e4-9b2f-077a6d387cb5",
   "metadata": {
    "tags": []
   },
   "outputs": [],
   "source": [
    "# The visits\n",
    "for band, band_visit_ds in visit_ds.items():\n",
    "    asphere.plot.patches(\n",
    "        xs=asphere.proj_transform('x', band_visit_ds),\n",
    "        ys=asphere.proj_transform('y', band_visit_ds),\n",
    "        source=band_visit_ds,\n",
    "        fill_alpha=bokeh.transform.transform('mjd', past_future_transform),\n",
    "        line_alpha=bokeh.transform.transform('mjd', recent_transform),\n",
    "        line_color=\"black\",\n",
    "        line_width=2,\n",
    "        fill_color=\"color\",\n",
    "        legend_label=band\n",
    "    )"
   ]
  },
  {
   "cell_type": "markdown",
   "id": "50ccd165-e097-433a-b496-9242341298a2",
   "metadata": {},
   "source": [
    "Add standard decorations and guides:"
   ]
  },
  {
   "cell_type": "code",
   "execution_count": null,
   "id": "d25c20be-6894-4a34-be3e-b20153597d37",
   "metadata": {
    "tags": []
   },
   "outputs": [],
   "source": [
    "# The sun\n",
    "data_source['sun'] = asphere.add_marker(\n",
    "    sun_coords.ra.deg,\n",
    "    sun_coords.dec.deg,\n",
    "    name=\"Sun\",\n",
    "    glyph_size=15,\n",
    "    circle_kwargs={\"color\": \"yellow\", \"legend_label\": \"Sun\"},\n",
    ")\n",
    "\n",
    "# The moon\n",
    "data_source['moon'] = asphere.add_marker(\n",
    "    moon_coords.ra.deg,\n",
    "    moon_coords.dec.deg,\n",
    "    name=\"Moon\",\n",
    "    glyph_size=15,\n",
    "    circle_kwargs={\"color\": \"orange\", \"legend_label\": \"Moon\"},\n",
    ")\n",
    "\n",
    "asphere.add_graticules()\n",
    "asphere.add_ecliptic(color=\"lightgreen\", legend_label=\"Ecliptic\")\n",
    "asphere.add_galactic_plane(color=\"lightblue\", legend_label=\"Galactic plane\")\n",
    "data_source['horizon'] = asphere.add_horizon(line_kwargs={\"legend_label\": \"Horizon\"})\n",
    "data_source['zd70'] = asphere.add_horizon(zd=70, line_kwargs={\"color\": \"red\", \"line_width\": 2, \"legend_label\": \"ZD=70\" + u'\\N{DEGREE SIGN}'})\n",
    "\n",
    "# Tweak the MJD slider end points to match the first and last visit\n",
    "asphere.sliders['mjd'].start = visits.mjd.min()\n",
    "asphere.sliders['mjd'].end = visits.mjd.max()\n",
    "asphere.sliders['mjd'].value = initial_mjd\n",
    "asphere.sliders['mjd'].step = 40./(24*60*60)\n",
    "\n",
    "asphere.plot.add_layout(asphere.plot.legend[0], \"right\")\n",
    "# pn.Row(asphere.figure)"
   ]
  },
  {
   "cell_type": "markdown",
   "id": "76a3fd3c-922a-4cf4-97f8-82e57b30fa65",
   "metadata": {},
   "source": [
    "Show the planisphere beside the armillary sphere:"
   ]
  },
  {
   "cell_type": "code",
   "execution_count": null,
   "id": "2094fac8-82ff-49d8-99ab-7e752c9353f9",
   "metadata": {
    "tags": []
   },
   "outputs": [],
   "source": [
    "psphere = Planisphere(mjd=initial_mjd)\n",
    "psphere.sliders['mjd'] = asphere.sliders['mjd']\n",
    "psphere.add_healpix(data_source['footprint_high'], cmap=cmap)\n",
    "psphere.add_healpix(data_source['footprint_low'], cmap=cmap)\n",
    "\n",
    "# The visits\n",
    "for band, band_visit_ds in visit_ds.items():\n",
    "    psphere.plot.patches(\n",
    "        xs=psphere.proj_transform('x', band_visit_ds),\n",
    "        ys=psphere.proj_transform('y', band_visit_ds),\n",
    "        source=band_visit_ds,\n",
    "        fill_alpha=bokeh.transform.transform('mjd', past_future_transform),\n",
    "        line_alpha=bokeh.transform.transform('mjd', recent_transform),\n",
    "        line_color=\"black\",\n",
    "        line_width=2,\n",
    "        fill_color=\"color\",\n",
    "    )\n",
    "\n",
    "psphere.add_marker(\n",
    "    data_source=data_source['sun'],\n",
    "    name=\"Sun\",\n",
    "    glyph_size=15,\n",
    "    circle_kwargs={\"color\": \"yellow\", \"legend_label\": \"Sun\"},\n",
    ")\n",
    "\n",
    "psphere.add_marker(\n",
    "    data_source=data_source['moon'],\n",
    "    name=\"Moon\",\n",
    "    glyph_size=15,\n",
    "    circle_kwargs={\"color\": \"orange\", \"legend_label\": \"Moon\"},\n",
    ")\n",
    "\n",
    "psphere.add_graticules()\n",
    "psphere.add_ecliptic(color=\"lightgreen\")\n",
    "psphere.add_galactic_plane(color=\"lightblue\")\n",
    "psphere.add_horizon(data_source=data_source[\"horizon\"])\n",
    "psphere.add_horizon(\n",
    "    data_source=data_source[\"zd70\"], line_kwargs={\"color\": \"red\", \"line_width\": 2}\n",
    ")\n",
    "\n",
    "\n",
    "viewable = pn.Row(psphere.figure, asphere.figure)\n",
    "\n",
    "display(viewable)\n",
    "asphere.update(viewable)\n",
    "psphere.update(viewable)\n",
    "pn.io.push_notebook(viewable)"
   ]
  },
  {
   "cell_type": "code",
   "execution_count": null,
   "id": "4050febf-d770-47ef-bf0f-c5639fa16095",
   "metadata": {},
   "outputs": [],
   "source": [
    "fname = \"night_visits_example.html\""
   ]
  },
  {
   "cell_type": "code",
   "execution_count": null,
   "id": "abafee83-ad6e-4f4c-819b-2fe17fff8937",
   "metadata": {},
   "outputs": [],
   "source": [
    "viewable.save(fname, embed=True)"
   ]
  },
  {
   "cell_type": "code",
   "execution_count": null,
   "id": "74d9fc14-bed8-4722-96a5-900bfe574c75",
   "metadata": {
    "tags": []
   },
   "outputs": [],
   "source": [
    "with open(fname, 'r', encoding=\"utf-8\") as in_file:\n",
    "    html_text = in_file.read()\n",
    "\n",
    "updated_html = html_text.replace(\n",
    "    \"<script\",\n",
    "    \"\"\"<script src=\"https://unpkg.com/gpu.js@latest/dist/gpu-browser.min.js\"></script>\n",
    "    <script\"\"\",\n",
    "    1)\n",
    "    \n",
    "with open(fname, 'w', encoding='utf-8') as out_file:\n",
    "    out_file.write(updated_html)"
   ]
  },
  {
   "cell_type": "code",
   "execution_count": null,
   "id": "1fe6864f-c05f-4935-ac1a-23971d51002f",
   "metadata": {},
   "outputs": [],
   "source": []
  }
 ],
 "metadata": {
  "kernelspec": {
   "display_name": "uranography",
   "language": "python",
   "name": "uranography"
  },
  "language_info": {
   "codemirror_mode": {
    "name": "ipython",
    "version": 3
   },
   "file_extension": ".py",
   "mimetype": "text/x-python",
   "name": "python",
   "nbconvert_exporter": "python",
   "pygments_lexer": "ipython3",
   "version": "3.11.4"
  }
 },
 "nbformat": 4,
 "nbformat_minor": 5
}
